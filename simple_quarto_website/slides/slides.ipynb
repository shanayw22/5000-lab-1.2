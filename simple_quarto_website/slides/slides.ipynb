{
  "cells": [
    {
      "cell_type": "raw",
      "metadata": {},
      "source": [
        "---\n",
        "title: Genghis Khan\n",
        "author: Shanay Wadhwani\n",
        "format: revealjs\n",
        "---"
      ]
    },
    {
      "cell_type": "markdown",
      "metadata": {},
      "source": [
        "---\n",
        "\n",
        "## Genghis Khan\n",
        "\n",
        "![Emperor of Mongolia](./images/xyz.jpg)\n",
        "\n",
        "## Map of Mongolia\n",
        "\n",
        "![Mongolia](./images/Mongolia_XI.jpg)\n",
        "\n",
        "### Citation\n",
        "\n",
        "   @article{Hankin_Watson_1914, title={On the Flight of Pterodactyls}, volume={18}, DOI={10.1017/s2398187300140290}, number={72}, journal={Aeronautical journal (London, England : 1897)}, publisher={Cambridge University Press (CUP)}, author={Hankin, E. H. and Watson, D. M. S.}, year={1914}, month=oct., pages={324–335} }\n",
        "\n",
        "\n",
        "## Python Code Example\n",
        "\n",
        "Python code cell that generates a plot."
      ]
    },
    {
      "cell_type": "code",
      "metadata": {},
      "source": [
        "import matplotlib.pyplot as plt\n",
        "import numpy as np\n",
        "\n",
        "\n",
        "x = np.linspace(-10, 10)\n",
        "y = x\n",
        "\n",
        "plt.figure(figsize=(8, 8))\n",
        "plt.plot(x, y, label='$x = y$', color='blue')\n",
        "plt.xlabel('x')\n",
        "plt.ylabel('y')\n",
        "plt.title('Plot of $x = y$')\n",
        "plt.axhline(0, color='black', linewidth=0.5)\n",
        "plt.axvline(0, color='black', linewidth=0.5)\n",
        "plt.grid(True, linestyle='--', alpha=0.7)\n",
        "plt.legend()\n",
        "\n",
        "\n",
        "plt.show()"
      ],
      "execution_count": null,
      "outputs": []
    }
  ],
  "metadata": {
    "kernelspec": {
      "name": "myenv",
      "language": "python",
      "display_name": "Python (myenv)",
      "path": "/Users/shanaywadhwani/Library/Jupyter/kernels/myenv"
    }
  },
  "nbformat": 4,
  "nbformat_minor": 4
}